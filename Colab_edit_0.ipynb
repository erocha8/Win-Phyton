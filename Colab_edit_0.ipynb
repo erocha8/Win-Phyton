{
  "nbformat": 4,
  "nbformat_minor": 0,
  "metadata": {
    "colab": {
      "name": "Colab_edit_0",
      "provenance": [],
      "collapsed_sections": [],
      "include_colab_link": true
    },
    "kernelspec": {
      "name": "python3",
      "display_name": "Python 3"
    },
    "language_info": {
      "name": "python"
    }
  },
  "cells": [
    {
      "cell_type": "markdown",
      "metadata": {
        "id": "view-in-github",
        "colab_type": "text"
      },
      "source": [
        "<a href=\"https://colab.research.google.com/github/erocha8/Win-Phyton/blob/main/Colab_edit_0.ipynb\" target=\"_parent\"><img src=\"https://colab.research.google.com/assets/colab-badge.svg\" alt=\"Open In Colab\"/></a>"
      ]
    },
    {
      "cell_type": "markdown",
      "metadata": {
        "id": "cCRPTYyvkZ2G"
      },
      "source": [
        "Material desenhado para as aulas de Python introdutório para geosciência, \n",
        "Abril 2021"
      ]
    },
    {
      "cell_type": "markdown",
      "metadata": {
        "id": "STIPfGBDqsge"
      },
      "source": [
        "[PT]\n",
        "\n",
        "**Escopo Aula 0**\n",
        "\n",
        "*   Abrir o google colab e mostrar como usar\n",
        "*   Mostrar quais bibliotecas serão utilizadas no curso\n",
        "*   Rodar um cálculo em Python\n",
        "*   Mostrar a relação entre imagens e vetores tridimensionais"
      ]
    },
    {
      "cell_type": "markdown",
      "metadata": {
        "id": "sfb6S5g1TnMd"
      },
      "source": [
        "[PT]\n",
        "\n",
        "Referência: Google Colab\n",
        "## <strong>O que é Google Colab</strong>\n",
        "\n",
        "<h1>O que é o Colaboratory?</h1>\n",
        "\n",
        "O Colaboratory ou \"Colab\" permite escrever código Python no seu navegador, com: \n",
        "- Nenhuma configuração necessária\n",
        "- Acesso gratuito a GPUs\n",
        "- Compartilhamento fácil\n",
        "- Utilização de dados no Drive como uma extensão\n",
        "\n"
      ]
    },
    {
      "cell_type": "markdown",
      "metadata": {
        "id": "51stOhEyUBpT"
      },
      "source": [
        "[PT]\n",
        "\n",
        "## <strong>Carregando bibliotecas de Python</strong>\n",
        "\n",
        "A primeira coisa é carregar todas as **biliotecas** que você vai precisar durante o desenvolvimento do projeto. \n",
        "Para **executar** o código, clique na **seta** que fica ao lado esquerdo da célula, essa seta se transformará num número que indica a ordem em que ocorreu a execução da célula.\n",
        "**Execute a célula abaixo**\n"
      ]
    },
    {
      "cell_type": "markdown",
      "metadata": {
        "id": "KZTT9qoz9fwP"
      },
      "source": [
        "[EN]\n",
        "**Scope Lesson 0**\n",
        "\n",
        "*   Open google colab and show how to use\n",
        "*   Show which libraries will be used\n",
        "*   Run a calculation in Python\n",
        "*   Show the relationship between three-dimensional images and vectors"
      ]
    },
    {
      "cell_type": "markdown",
      "metadata": {
        "id": "au11TOxB9011"
      },
      "source": [
        "[EN]\n",
        "\n",
        "Reference: Google Colab\n",
        "\n",
        "## <strong>Google Colab?</strong>\n",
        "\n",
        "<h1>What is Google Colab?</h1>\n",
        "\n",
        "Collaboratory or \"Colab\" allows you to write Python code in your browser, with:\n",
        "\n",
        "- No configuration required\n",
        "- Free access to GPUs\n",
        "- Easy sharing\n",
        "- Using data in Drive as an extension"
      ]
    },
    {
      "cell_type": "markdown",
      "metadata": {
        "id": "UNEfHWjT-aSM"
      },
      "source": [
        "[EN]\n",
        "\n",
        "## <strong> Loading Python libraries </strong>\n",
        "The first thing is to load all the **libraries** you will need during the development of the project. To **execute** the code, click on the **arrow** on the left side of the cell, that arrow will become a number that indicates the order in which the execution of the cell occurred. **Run the cell below:**"
      ]
    },
    {
      "cell_type": "code",
      "metadata": {
        "id": "Decflkr7UKF0"
      },
      "source": [
        "import cv2\n",
        "import numpy as np\n",
        "import matplotlib.pyplot as plt\n",
        "import pandas as pd\n",
        "from google.colab.patches import cv2_imshow"
      ],
      "execution_count": 1,
      "outputs": []
    },
    {
      "cell_type": "markdown",
      "metadata": {
        "id": "SIoE2BQ7aCRj"
      },
      "source": [
        "\n",
        "[PT]\n",
        "\n",
        "Olhe o conjunto de comandos acima, fique familiarizado com o formato para carregar bibliotecas em **Python**, e responda ao questionário <a href=\"https://docs.google.com/forms/d/e/1FAIpQLSdSC8HHhlNUf0CRydc2gcCfUKxhuyKIZGZxRIdXPhAgzdPfIQ/viewform?usp=sf_link\">\n",
        "\n",
        "Lição 0</a> para te conhecermos melhor. Não se preocupe se você não conhecer algumas das bibliotecas, principalmente o cv2.\n",
        "\n",
        "\n",
        "\n"
      ]
    },
    {
      "cell_type": "markdown",
      "metadata": {
        "id": "uv9sLwTQyrJQ"
      },
      "source": [
        "[PT]\n",
        "\n",
        "# Referências para as bibliotecas\n",
        " \n",
        " Segue abaixo uma lista de referências das bilbiotecas\n",
        "*   cv2 -  Open CV: https://opencv.org/\n",
        "*   Numpy  : https://numpy.org/\n",
        "*   Pandas: https://pandas.pydata.org/\n"
      ]
    },
    {
      "cell_type": "markdown",
      "metadata": {
        "id": "3LA-JJ55_ORr"
      },
      "source": [
        "[EN]\n",
        "\n",
        "Look at the set of commands above, become familiar with the format for loading Python libraries, and answer the questionnaire <a href=\"https://docs.google.com/forms/d/e/1FAIpQLSdSC8HHhlNUf0CRydc2gcCfUKxhuyKIZGZxRIdXPhAgzdPfIQ/viewform?usp=sf_link\"> Lesson 0</a> to get to know you better. Don't worry if you don't know some of the libraries, especially cv2."
      ]
    },
    {
      "cell_type": "markdown",
      "metadata": {
        "id": "i73r4Hpi_lJJ"
      },
      "source": [
        "[EN]\n",
        "\n",
        "# References for Python Libraries used in this project\n",
        " \n",
        " List with open references for each library \n",
        "*   cv2 -  Open CV: https://opencv.org/\n",
        "*   Numpy  : https://numpy.org/\n",
        "*   Pandas: https://pandas.pydata.org/"
      ]
    },
    {
      "cell_type": "markdown",
      "metadata": {
        "id": "M_IY61fTUm8U"
      },
      "source": [
        "[PT]\n",
        "\n",
        "## <strong>Salvando seu projeto -  Google Drive</strong>\n",
        "\n",
        "Um ponto importante é aprender a salvar seu trabalho numa pasta a ser acessada em qualquer computador, e compartilhar com colegas. \n",
        "Vamos aprender a salvar e encontrar o trabalho. Renomeie seu arquivo para Colab_edit_0 no topo da página, simplesmente coloque o cursor em cima do nome e edite. \n",
        "Para salvar o trabalho no **Google Drive**, vá até \n",
        "->Arquivo \n",
        "->Salvar uma cópia no Google Drive e clique\n",
        "\n",
        "Abre seu **Google Drive** e encontre a pasta **Colab Notebooks**\n",
        "\n",
        "Se o seu arquivo não estiver na pasta, fale no chat que a gente ajuda, isso é importante para as próximas atividades.\n",
        "\n"
      ]
    },
    {
      "cell_type": "markdown",
      "metadata": {
        "id": "CHIR1J-7eEpZ"
      },
      "source": [
        "[PT]\n",
        "\n",
        "## <strong>Compartilhamento - Github</strong>\n",
        "\n",
        "O Google Colab oferece a possibilidade de compartilhar o projeto num **repositório público** do Github.\n",
        "Crie um repositório público onde você gostaria de deixar o arquivo.\n",
        "\n",
        "Se você já tem uma conta no Github, vá em \n",
        "Arquivo -> Salvar uma cópia no Github\n",
        "\n",
        "Selecione um repositório público, coloque um caminho no formato:\n",
        "\n",
        "**Aula0/Colab_edit_0**\n",
        "\n",
        "E abra seu Github para verificar se funcionou.\n",
        "Se ocorreu algum erro, não se preocupe, isso é só uma atividade para começar um repositório e não afetará as próximas atividades."
      ]
    },
    {
      "cell_type": "markdown",
      "metadata": {
        "id": "hRbEpURg_9U5"
      },
      "source": [
        "[EN]\n",
        "\n",
        "## <strong>Saving your project -  Google Drive</strong>\n",
        "\n",
        "An important point is to learn to save your work in a folder to be accessed on any computer, and to share with colleagues. We will learn to save and find work. Rename your file to Colab_edit_0 at the top of the page, simply place your cursor over the name and edit. To save your work to Google Drive, go to -> File -> Save a copy to **Google Drive** and click\n",
        "\n",
        "Open your **Google Drive** and find the **Colab Notebooks folder**\n",
        "\n",
        "If your file is not in the folder, speak in the chat that we help, this is important for the next activities."
      ]
    },
    {
      "cell_type": "markdown",
      "metadata": {
        "id": "AFPC10mYAcOW"
      },
      "source": [
        "[EN]\n",
        "\n",
        "## <strong>Sharing documents - Github</strong>\n",
        "\n",
        "Google Colab offers the possibility to share the project in a **public Github repository**. Create a public repository where you would like to leave the file.\n",
        "\n",
        "If you already have a Github account, go to File -> Save a copy on Github\n",
        "\n",
        "Select a public repository, put a path in the format:\n",
        "\n",
        "**Class0 / Colab_edit_0**\n",
        "\n",
        "And open your Github to see if it worked. If an error occurred, don't worry, this is just an activity to start a repository and will not affect the next activities."
      ]
    },
    {
      "cell_type": "markdown",
      "metadata": {
        "id": "5AvMIrWsBL4Q"
      },
      "source": [
        "[PT]\n",
        "\n",
        "## <strong>Iniciando Variáveis</strong>\n",
        "\n",
        "Para trabalhar com imagens é necessário entender a estrutura de dados numéricos que consite em valore multidimensionais. Para começar, vamos gerar uma matrix, ou vetor bidimeensional usando numpy.\n"
      ]
    },
    {
      "cell_type": "markdown",
      "metadata": {
        "id": "_-uZBuExA-uz"
      },
      "source": [
        "[EN]\n",
        "\n",
        "## <strong>Initiating a variable</strong>\n",
        "To work with images it is necessary to understand the structure of numerical data that consists of multidimensional values. To begin, let's generate a matrix, or two-dimensional vector using numpy."
      ]
    },
    {
      "cell_type": "code",
      "metadata": {
        "id": "pxoCl5F_CJpV"
      },
      "source": [
        "N=128\n",
        "w, h = N, N\n",
        "data = np. zeros((h, w, 1), dtype=np. uint8)\n",
        "\n",
        "\n",
        "data[int(N/4):3*int(N/4), int(N/4):3*int(N/4)] = [255]\n",
        "\n",
        "\n"
      ],
      "execution_count": null,
      "outputs": []
    },
    {
      "cell_type": "code",
      "metadata": {
        "colab": {
          "base_uri": "https://localhost:8080/",
          "height": 145
        },
        "id": "eai8bkPqCbNO",
        "outputId": "52287408-b637-476f-fcb2-a2e264a36674"
      },
      "source": [
        " cv2_imshow(data)"
      ],
      "execution_count": null,
      "outputs": [
        {
          "output_type": "display_data",
          "data": {
            "image/png": "[encoded data removed]",
            "text/plain": [
              "<PIL.Image.Image image mode=RGB size=128x128 at 0x7F6F6BC0AE50>"
            ]
          },
          "metadata": {
            "tags": []
          }
        }
      ]
    },
    {
      "cell_type": "markdown",
      "metadata": {
        "id": "NSzGcuWHEKWD"
      },
      "source": [
        "[PT]\n",
        "\n",
        "**Exercicio 1**\n",
        "\n",
        "Imprima o valor do canto esquerdo superior de data, e o valor central de data"
      ]
    },
    {
      "cell_type": "markdown",
      "metadata": {
        "id": "d1N10T2GBVFj"
      },
      "source": [
        "[EN]\n",
        "\n",
        "**Exercise 1**\n",
        "\n",
        "Print the value of the upper left corner of the date, and the central value of the date"
      ]
    },
    {
      "cell_type": "code",
      "metadata": {
        "id": "zDtAdLvnD4nL"
      },
      "source": [
        "# print('canto superior:', )\n",
        "#print('centro:', )"
      ],
      "execution_count": null,
      "outputs": []
    },
    {
      "cell_type": "markdown",
      "metadata": {
        "id": "JRvBgs0qD5ZC"
      },
      "source": [
        "[PT]\n",
        "\n",
        "Cada um desses valores é chamado **pixel**.\n",
        "Esses dados bidimensionais permitem que cada pixel da imagem tenha intensidade de cinza diferentes indo de 0- preto até 255 correspondente ao branco.\n",
        "Se a matriz data fosse transformada numa **imagem**, qual seria o formato? Desenhe num papel e depois verifique sua intuição com o comando abaixo usando cv2.imshow().\n",
        "**cv2.imshow()** é um método que mostra a imagem abaixo do comando. É o primeiro comando de imagem que usamos e que deixa claro uma dualidade entre imagem e dados numéricos.\n"
      ]
    },
    {
      "cell_type": "markdown",
      "metadata": {
        "id": "0xGB6Hk_BiHa"
      },
      "source": [
        "[EN]\n",
        "\n",
        "Each of these values ​​is called a **pixel**. This two-dimensional data allows each pixel in the image to have different gray depths ranging from 0- black to 255 corresponding to white. If the data matrix were transformed into an **image**, what would be the format? Draw on paper and then check your intuition with the command below using cv2_imshow (). **cv2_imshow ()** is a method that shows the image below the command. It is the first image command that we use and that makes clear a duality between image and numerical data."
      ]
    },
    {
      "cell_type": "markdown",
      "metadata": {
        "id": "q_noF8hlGWCQ"
      },
      "source": [
        "[PT]\n",
        "\n",
        "## <strong>Imagem colorida</strong>\n",
        "Para gerar uma imagem colorida, podemos usar o sistema **RGB (*red, green, blue*)**, que transforma 3 canais em uma composição de cores. Cada cor vai de 0 até 255. Existem outros sistemas de cores, e é necessário dizer ao computador qual sistema a sua matrix está seguindo. \n",
        "Como exercício, vamos criar um dado com 3 canais semelhantes ao vetor criado acima e depois plotar usando o comando cv2_imshow.\n",
        "Por padrão, o computador assumirá  a seguinte ordem: **Azul, Verde, Vermelho**.\n"
      ]
    },
    {
      "cell_type": "markdown",
      "metadata": {
        "id": "Zk-oe4-2CAnp"
      },
      "source": [
        "[EN]\n",
        "\n",
        "## <strong>Images</strong>\n",
        "To generate a color image, we can use the **RGB system (red, green, blue)**, which transforms 3 channels into a composition of colors. Each color ranges from 0 to 255. There are other color systems, and you need to tell the computer which system your matrix is ​​following. As an exercise, we will create a data with 3 channels similar to the vector created above and then plot using the command cv2_imshow. By default, the computer will assume the following order: **Blue, Green, Red**."
      ]
    },
    {
      "cell_type": "code",
      "metadata": {
        "colab": {
          "base_uri": "https://localhost:8080/"
        },
        "id": "1cthBN58Dx0d",
        "outputId": "b2a2b8b7-ded3-441a-bf35-6b68afc5c032"
      },
      "source": [
        "N = 128\n",
        "w, h = N, N\n",
        "data3D = np. zeros((h, w, 3), dtype = np. uint8)\n",
        " \n",
        "\n",
        "data3D[int(N / 4):3 * int(N / 4), int(N / 4):3 * int(N / 4), :] = [0, 0, 255]\n",
        "\n",
        "print(data3D[0, 0, 0])\n",
        "#cv2_imshow(data3D)"
      ],
      "execution_count": null,
      "outputs": [
        {
          "output_type": "stream",
          "text": [
            "0\n"
          ],
          "name": "stdout"
        }
      ]
    },
    {
      "cell_type": "markdown",
      "metadata": {
        "id": "Y0SzdWSZHvEG"
      },
      "source": [
        "[PT]\n",
        "\n",
        "**Exercicio 2**\n",
        "\n",
        "Imprima os valores do canto superior direito e os valores do centro da imagem."
      ]
    },
    {
      "cell_type": "markdown",
      "metadata": {
        "id": "EnPmEbOLCc8Y"
      },
      "source": [
        "[EN]\n",
        "\n",
        "**Exercise 2**\n",
        "\n",
        "Print the values ​​in the upper right corner and the values ​​in the center of the image."
      ]
    },
    {
      "cell_type": "code",
      "metadata": {
        "colab": {
          "base_uri": "https://localhost:8080/"
        },
        "id": "b61GpPXLHup1",
        "outputId": "e94dde80-dfc6-4f80-c32c-347704025bb4"
      },
      "source": [
        "print(data3D[0,0], data3D[64, 64, ] )"
      ],
      "execution_count": null,
      "outputs": [
        {
          "output_type": "stream",
          "text": [
            "[0 0 0] [  0   0 255]\n"
          ],
          "name": "stdout"
        }
      ]
    },
    {
      "cell_type": "markdown",
      "metadata": {
        "id": "-71BUV-RJVg9"
      },
      "source": [
        "**Exercicio 3**\n",
        "\n",
        "Crie uma figura que tenha um quadrado central azul e uma moldura verde."
      ]
    },
    {
      "cell_type": "markdown",
      "metadata": {
        "id": "DLFBy0uhComI"
      },
      "source": [
        "**Exercise 3**\n",
        "\n",
        "Create a picture that has a central blue square and a green frame."
      ]
    },
    {
      "cell_type": "code",
      "metadata": {
        "colab": {
          "base_uri": "https://localhost:8080/"
        },
        "id": "FopuU42PJpaM",
        "outputId": "05058ad9-2b03-4383-a751-1d51a68a4979"
      },
      "source": [
        "N = 128\n",
        "w, h = N, N\n",
        "img = np. zeros((h, w, 3), dtype = np. uint8)\n",
        " \n",
        "img[:,:, 1] = 255\n",
        "img[int(N / 4) : 3 * int(N / 4), int(N / 4) : 3 * int(N / 4), :] = [255, 0, 0]\n",
        "\n",
        "print(img[0, 0, 0])"
      ],
      "execution_count": null,
      "outputs": [
        {
          "output_type": "stream",
          "text": [
            "0\n"
          ],
          "name": "stdout"
        }
      ]
    },
    {
      "cell_type": "code",
      "metadata": {
        "colab": {
          "base_uri": "https://localhost:8080/",
          "height": 145
        },
        "id": "05aNa-rPHpQ2",
        "outputId": "9b63e43c-a2f9-4f67-b57f-414e464d4d5c"
      },
      "source": [
        "cv2_imshow(img)"
      ],
      "execution_count": null,
      "outputs": [
        {
          "output_type": "display_data",
          "data": {
            "image/png": "[encoded data removed]",
            "text/plain": [
              "<PIL.Image.Image image mode=RGB size=128x128 at 0x7F6F67F81910>"
            ]
          },
          "metadata": {
            "tags": []
          }
        }
      ]
    }
  ]
}